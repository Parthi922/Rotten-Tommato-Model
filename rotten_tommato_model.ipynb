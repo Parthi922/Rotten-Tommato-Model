{
  "nbformat": 4,
  "nbformat_minor": 0,
  "metadata": {
    "colab": {
      "provenance": [],
      "authorship_tag": "ABX9TyMHD+tMPbymcMJkp1y8371C",
      "include_colab_link": true
    },
    "kernelspec": {
      "name": "python3",
      "display_name": "Python 3"
    },
    "language_info": {
      "name": "python"
    }
  },
  "cells": [
    {
      "cell_type": "markdown",
      "metadata": {
        "id": "view-in-github",
        "colab_type": "text"
      },
      "source": [
        "<a href=\"https://colab.research.google.com/github/Parthi922/Rotten-Tommato-Model/blob/main/rotten_tommato_model.ipynb\" target=\"_parent\"><img src=\"https://colab.research.google.com/assets/colab-badge.svg\" alt=\"Open In Colab\"/></a>"
      ]
    },
    {
      "cell_type": "markdown",
      "source": [
        "Rotten-Tommato-Model"
      ],
      "metadata": {
        "id": "Tm2nGq-hZzj1"
      }
    },
    {
      "cell_type": "code",
      "source": [
        "# Import necessary libraries\n",
        "import pandas as pd\n",
        "import numpy as np\n",
        "import matplotlib.pyplot as plt\n",
        "import seaborn as sns\n",
        "\n",
        "from sklearn.model_selection import train_test_split, GridSearchCV, cross_val_score\n",
        "from sklearn.preprocessing import StandardScaler, LabelEncoder\n",
        "from sklearn.metrics import mean_absolute_error, mean_squared_error, r2_score\n",
        "from sklearn.pipeline import Pipeline\n",
        "from sklearn.linear_model import LinearRegression\n",
        "from sklearn.ensemble import RandomForestRegressor\n",
        "from sklearn.tree import DecisionTreeRegressor\n",
        "from google.colab import files\n",
        "from sklearn.metrics import mean_absolute_error, mean_squared_error, r2_score\n",
        "import io\n",
        "import joblib\n",
        "\n",
        "\n"
      ],
      "metadata": {
        "id": "lvG55mK6iJQ9"
      },
      "execution_count": 1,
      "outputs": []
    },
    {
      "cell_type": "markdown",
      "source": [
        "Specify the file path to the dataset\n"
      ],
      "metadata": {
        "id": "ME2zEVB3GsWx"
      }
    },
    {
      "cell_type": "code",
      "source": [
        "# Step 1: Upload the dataset\n",
        "df = pd.read_excel(\"/content/Rotten_Tomatoes_Movies3.xls\")\n",
        "df.columns\n"
      ],
      "metadata": {
        "colab": {
          "base_uri": "https://localhost:8080/"
        },
        "id": "zEV1LOHpiTBt",
        "outputId": "943db872-5a67-44c0-fcb2-e6b06a525200"
      },
      "execution_count": 2,
      "outputs": [
        {
          "output_type": "execute_result",
          "data": {
            "text/plain": [
              "Index(['movie_title', 'movie_info', 'critics_consensus', 'rating', 'genre',\n",
              "       'directors', 'writers', 'cast', 'in_theaters_date', 'on_streaming_date',\n",
              "       'runtime_in_minutes', 'studio_name', 'tomatometer_status',\n",
              "       'tomatometer_rating', 'tomatometer_count', 'audience_rating'],\n",
              "      dtype='object')"
            ]
          },
          "metadata": {},
          "execution_count": 2
        }
      ]
    },
    {
      "cell_type": "code",
      "source": [
        "# Display basic information\n",
        "df.head()"
      ],
      "metadata": {
        "colab": {
          "base_uri": "https://localhost:8080/",
          "height": 712
        },
        "id": "jJG3NEjLJhkR",
        "outputId": "4ec0adc5-1348-4e1a-88b7-f597d390a075"
      },
      "execution_count": 3,
      "outputs": [
        {
          "output_type": "execute_result",
          "data": {
            "text/plain": [
              "                                         movie_title  \\\n",
              "0  Percy Jackson & the Olympians: The Lightning T...   \n",
              "1                                        Please Give   \n",
              "2                                                 10   \n",
              "3                    12 Angry Men (Twelve Angry Men)   \n",
              "4                       20,000 Leagues Under The Sea   \n",
              "\n",
              "                                          movie_info  \\\n",
              "0  A teenager discovers he's the descendant of a ...   \n",
              "1  Kate has a lot on her mind. There's the ethics...   \n",
              "2  Blake Edwards' 10 stars Dudley Moore as George...   \n",
              "3  A Puerto Rican youth is on trial for murder, a...   \n",
              "4  This 1954 Disney version of Jules Verne's 20,0...   \n",
              "\n",
              "                                   critics_consensus rating  \\\n",
              "0  Though it may seem like just another Harry Pot...     PG   \n",
              "1  Nicole Holofcener's newest might seem slight i...      R   \n",
              "2                                                NaN      R   \n",
              "3  Sidney Lumet's feature debut is a superbly wri...     NR   \n",
              "4  One of Disney's finest live-action adventures,...      G   \n",
              "\n",
              "                                               genre          directors  \\\n",
              "0  Action & Adventure, Comedy, Drama, Science Fic...     Chris Columbus   \n",
              "1                                             Comedy  Nicole Holofcener   \n",
              "2                                    Comedy, Romance      Blake Edwards   \n",
              "3                                    Classics, Drama       Sidney Lumet   \n",
              "4           Action & Adventure, Drama, Kids & Family  Richard Fleischer   \n",
              "\n",
              "             writers                                               cast  \\\n",
              "0       Craig Titley  Logan Lerman, Brandon T. Jackson, Alexandra Da...   \n",
              "1  Nicole Holofcener  Catherine Keener, Amanda Peet, Oliver Platt, R...   \n",
              "2      Blake Edwards  Dudley Moore, Bo Derek, Julie Andrews, Robert ...   \n",
              "3      Reginald Rose  Martin Balsam, John Fiedler, Lee J. Cobb, E.G....   \n",
              "4        Earl Felton  James Mason, Kirk Douglas, Paul Lukas, Peter L...   \n",
              "\n",
              "  in_theaters_date on_streaming_date  runtime_in_minutes  \\\n",
              "0       2010-02-12        2010-06-29                83.0   \n",
              "1       2010-04-30        2010-10-19                90.0   \n",
              "2       1979-10-05        1997-08-27               118.0   \n",
              "3       1957-04-13        2001-03-06                95.0   \n",
              "4       1954-01-01        2003-05-20               127.0   \n",
              "\n",
              "              studio_name tomatometer_status  tomatometer_rating  \\\n",
              "0        20th Century Fox             Rotten                  49   \n",
              "1  Sony Pictures Classics    Certified Fresh                  86   \n",
              "2             Waner Bros.              Fresh                  68   \n",
              "3    Criterion Collection    Certified Fresh                 100   \n",
              "4                  Disney              Fresh                  89   \n",
              "\n",
              "   tomatometer_count  audience_rating  \n",
              "0                144             53.0  \n",
              "1                140             64.0  \n",
              "2                 22             53.0  \n",
              "3                 51             97.0  \n",
              "4                 27             74.0  "
            ],
            "text/html": [
              "\n",
              "  <div id=\"df-f3431a42-c593-4f49-a738-8d8abfb88e3c\" class=\"colab-df-container\">\n",
              "    <div>\n",
              "<style scoped>\n",
              "    .dataframe tbody tr th:only-of-type {\n",
              "        vertical-align: middle;\n",
              "    }\n",
              "\n",
              "    .dataframe tbody tr th {\n",
              "        vertical-align: top;\n",
              "    }\n",
              "\n",
              "    .dataframe thead th {\n",
              "        text-align: right;\n",
              "    }\n",
              "</style>\n",
              "<table border=\"1\" class=\"dataframe\">\n",
              "  <thead>\n",
              "    <tr style=\"text-align: right;\">\n",
              "      <th></th>\n",
              "      <th>movie_title</th>\n",
              "      <th>movie_info</th>\n",
              "      <th>critics_consensus</th>\n",
              "      <th>rating</th>\n",
              "      <th>genre</th>\n",
              "      <th>directors</th>\n",
              "      <th>writers</th>\n",
              "      <th>cast</th>\n",
              "      <th>in_theaters_date</th>\n",
              "      <th>on_streaming_date</th>\n",
              "      <th>runtime_in_minutes</th>\n",
              "      <th>studio_name</th>\n",
              "      <th>tomatometer_status</th>\n",
              "      <th>tomatometer_rating</th>\n",
              "      <th>tomatometer_count</th>\n",
              "      <th>audience_rating</th>\n",
              "    </tr>\n",
              "  </thead>\n",
              "  <tbody>\n",
              "    <tr>\n",
              "      <th>0</th>\n",
              "      <td>Percy Jackson &amp; the Olympians: The Lightning T...</td>\n",
              "      <td>A teenager discovers he's the descendant of a ...</td>\n",
              "      <td>Though it may seem like just another Harry Pot...</td>\n",
              "      <td>PG</td>\n",
              "      <td>Action &amp; Adventure, Comedy, Drama, Science Fic...</td>\n",
              "      <td>Chris Columbus</td>\n",
              "      <td>Craig Titley</td>\n",
              "      <td>Logan Lerman, Brandon T. Jackson, Alexandra Da...</td>\n",
              "      <td>2010-02-12</td>\n",
              "      <td>2010-06-29</td>\n",
              "      <td>83.0</td>\n",
              "      <td>20th Century Fox</td>\n",
              "      <td>Rotten</td>\n",
              "      <td>49</td>\n",
              "      <td>144</td>\n",
              "      <td>53.0</td>\n",
              "    </tr>\n",
              "    <tr>\n",
              "      <th>1</th>\n",
              "      <td>Please Give</td>\n",
              "      <td>Kate has a lot on her mind. There's the ethics...</td>\n",
              "      <td>Nicole Holofcener's newest might seem slight i...</td>\n",
              "      <td>R</td>\n",
              "      <td>Comedy</td>\n",
              "      <td>Nicole Holofcener</td>\n",
              "      <td>Nicole Holofcener</td>\n",
              "      <td>Catherine Keener, Amanda Peet, Oliver Platt, R...</td>\n",
              "      <td>2010-04-30</td>\n",
              "      <td>2010-10-19</td>\n",
              "      <td>90.0</td>\n",
              "      <td>Sony Pictures Classics</td>\n",
              "      <td>Certified Fresh</td>\n",
              "      <td>86</td>\n",
              "      <td>140</td>\n",
              "      <td>64.0</td>\n",
              "    </tr>\n",
              "    <tr>\n",
              "      <th>2</th>\n",
              "      <td>10</td>\n",
              "      <td>Blake Edwards' 10 stars Dudley Moore as George...</td>\n",
              "      <td>NaN</td>\n",
              "      <td>R</td>\n",
              "      <td>Comedy, Romance</td>\n",
              "      <td>Blake Edwards</td>\n",
              "      <td>Blake Edwards</td>\n",
              "      <td>Dudley Moore, Bo Derek, Julie Andrews, Robert ...</td>\n",
              "      <td>1979-10-05</td>\n",
              "      <td>1997-08-27</td>\n",
              "      <td>118.0</td>\n",
              "      <td>Waner Bros.</td>\n",
              "      <td>Fresh</td>\n",
              "      <td>68</td>\n",
              "      <td>22</td>\n",
              "      <td>53.0</td>\n",
              "    </tr>\n",
              "    <tr>\n",
              "      <th>3</th>\n",
              "      <td>12 Angry Men (Twelve Angry Men)</td>\n",
              "      <td>A Puerto Rican youth is on trial for murder, a...</td>\n",
              "      <td>Sidney Lumet's feature debut is a superbly wri...</td>\n",
              "      <td>NR</td>\n",
              "      <td>Classics, Drama</td>\n",
              "      <td>Sidney Lumet</td>\n",
              "      <td>Reginald Rose</td>\n",
              "      <td>Martin Balsam, John Fiedler, Lee J. Cobb, E.G....</td>\n",
              "      <td>1957-04-13</td>\n",
              "      <td>2001-03-06</td>\n",
              "      <td>95.0</td>\n",
              "      <td>Criterion Collection</td>\n",
              "      <td>Certified Fresh</td>\n",
              "      <td>100</td>\n",
              "      <td>51</td>\n",
              "      <td>97.0</td>\n",
              "    </tr>\n",
              "    <tr>\n",
              "      <th>4</th>\n",
              "      <td>20,000 Leagues Under The Sea</td>\n",
              "      <td>This 1954 Disney version of Jules Verne's 20,0...</td>\n",
              "      <td>One of Disney's finest live-action adventures,...</td>\n",
              "      <td>G</td>\n",
              "      <td>Action &amp; Adventure, Drama, Kids &amp; Family</td>\n",
              "      <td>Richard Fleischer</td>\n",
              "      <td>Earl Felton</td>\n",
              "      <td>James Mason, Kirk Douglas, Paul Lukas, Peter L...</td>\n",
              "      <td>1954-01-01</td>\n",
              "      <td>2003-05-20</td>\n",
              "      <td>127.0</td>\n",
              "      <td>Disney</td>\n",
              "      <td>Fresh</td>\n",
              "      <td>89</td>\n",
              "      <td>27</td>\n",
              "      <td>74.0</td>\n",
              "    </tr>\n",
              "  </tbody>\n",
              "</table>\n",
              "</div>\n",
              "    <div class=\"colab-df-buttons\">\n",
              "\n",
              "  <div class=\"colab-df-container\">\n",
              "    <button class=\"colab-df-convert\" onclick=\"convertToInteractive('df-f3431a42-c593-4f49-a738-8d8abfb88e3c')\"\n",
              "            title=\"Convert this dataframe to an interactive table.\"\n",
              "            style=\"display:none;\">\n",
              "\n",
              "  <svg xmlns=\"http://www.w3.org/2000/svg\" height=\"24px\" viewBox=\"0 -960 960 960\">\n",
              "    <path d=\"M120-120v-720h720v720H120Zm60-500h600v-160H180v160Zm220 220h160v-160H400v160Zm0 220h160v-160H400v160ZM180-400h160v-160H180v160Zm440 0h160v-160H620v160ZM180-180h160v-160H180v160Zm440 0h160v-160H620v160Z\"/>\n",
              "  </svg>\n",
              "    </button>\n",
              "\n",
              "  <style>\n",
              "    .colab-df-container {\n",
              "      display:flex;\n",
              "      gap: 12px;\n",
              "    }\n",
              "\n",
              "    .colab-df-convert {\n",
              "      background-color: #E8F0FE;\n",
              "      border: none;\n",
              "      border-radius: 50%;\n",
              "      cursor: pointer;\n",
              "      display: none;\n",
              "      fill: #1967D2;\n",
              "      height: 32px;\n",
              "      padding: 0 0 0 0;\n",
              "      width: 32px;\n",
              "    }\n",
              "\n",
              "    .colab-df-convert:hover {\n",
              "      background-color: #E2EBFA;\n",
              "      box-shadow: 0px 1px 2px rgba(60, 64, 67, 0.3), 0px 1px 3px 1px rgba(60, 64, 67, 0.15);\n",
              "      fill: #174EA6;\n",
              "    }\n",
              "\n",
              "    .colab-df-buttons div {\n",
              "      margin-bottom: 4px;\n",
              "    }\n",
              "\n",
              "    [theme=dark] .colab-df-convert {\n",
              "      background-color: #3B4455;\n",
              "      fill: #D2E3FC;\n",
              "    }\n",
              "\n",
              "    [theme=dark] .colab-df-convert:hover {\n",
              "      background-color: #434B5C;\n",
              "      box-shadow: 0px 1px 3px 1px rgba(0, 0, 0, 0.15);\n",
              "      filter: drop-shadow(0px 1px 2px rgba(0, 0, 0, 0.3));\n",
              "      fill: #FFFFFF;\n",
              "    }\n",
              "  </style>\n",
              "\n",
              "    <script>\n",
              "      const buttonEl =\n",
              "        document.querySelector('#df-f3431a42-c593-4f49-a738-8d8abfb88e3c button.colab-df-convert');\n",
              "      buttonEl.style.display =\n",
              "        google.colab.kernel.accessAllowed ? 'block' : 'none';\n",
              "\n",
              "      async function convertToInteractive(key) {\n",
              "        const element = document.querySelector('#df-f3431a42-c593-4f49-a738-8d8abfb88e3c');\n",
              "        const dataTable =\n",
              "          await google.colab.kernel.invokeFunction('convertToInteractive',\n",
              "                                                    [key], {});\n",
              "        if (!dataTable) return;\n",
              "\n",
              "        const docLinkHtml = 'Like what you see? Visit the ' +\n",
              "          '<a target=\"_blank\" href=https://colab.research.google.com/notebooks/data_table.ipynb>data table notebook</a>'\n",
              "          + ' to learn more about interactive tables.';\n",
              "        element.innerHTML = '';\n",
              "        dataTable['output_type'] = 'display_data';\n",
              "        await google.colab.output.renderOutput(dataTable, element);\n",
              "        const docLink = document.createElement('div');\n",
              "        docLink.innerHTML = docLinkHtml;\n",
              "        element.appendChild(docLink);\n",
              "      }\n",
              "    </script>\n",
              "  </div>\n",
              "\n",
              "\n",
              "<div id=\"df-ed09f206-58bd-4468-bf68-ee2a8b0451fc\">\n",
              "  <button class=\"colab-df-quickchart\" onclick=\"quickchart('df-ed09f206-58bd-4468-bf68-ee2a8b0451fc')\"\n",
              "            title=\"Suggest charts\"\n",
              "            style=\"display:none;\">\n",
              "\n",
              "<svg xmlns=\"http://www.w3.org/2000/svg\" height=\"24px\"viewBox=\"0 0 24 24\"\n",
              "     width=\"24px\">\n",
              "    <g>\n",
              "        <path d=\"M19 3H5c-1.1 0-2 .9-2 2v14c0 1.1.9 2 2 2h14c1.1 0 2-.9 2-2V5c0-1.1-.9-2-2-2zM9 17H7v-7h2v7zm4 0h-2V7h2v10zm4 0h-2v-4h2v4z\"/>\n",
              "    </g>\n",
              "</svg>\n",
              "  </button>\n",
              "\n",
              "<style>\n",
              "  .colab-df-quickchart {\n",
              "      --bg-color: #E8F0FE;\n",
              "      --fill-color: #1967D2;\n",
              "      --hover-bg-color: #E2EBFA;\n",
              "      --hover-fill-color: #174EA6;\n",
              "      --disabled-fill-color: #AAA;\n",
              "      --disabled-bg-color: #DDD;\n",
              "  }\n",
              "\n",
              "  [theme=dark] .colab-df-quickchart {\n",
              "      --bg-color: #3B4455;\n",
              "      --fill-color: #D2E3FC;\n",
              "      --hover-bg-color: #434B5C;\n",
              "      --hover-fill-color: #FFFFFF;\n",
              "      --disabled-bg-color: #3B4455;\n",
              "      --disabled-fill-color: #666;\n",
              "  }\n",
              "\n",
              "  .colab-df-quickchart {\n",
              "    background-color: var(--bg-color);\n",
              "    border: none;\n",
              "    border-radius: 50%;\n",
              "    cursor: pointer;\n",
              "    display: none;\n",
              "    fill: var(--fill-color);\n",
              "    height: 32px;\n",
              "    padding: 0;\n",
              "    width: 32px;\n",
              "  }\n",
              "\n",
              "  .colab-df-quickchart:hover {\n",
              "    background-color: var(--hover-bg-color);\n",
              "    box-shadow: 0 1px 2px rgba(60, 64, 67, 0.3), 0 1px 3px 1px rgba(60, 64, 67, 0.15);\n",
              "    fill: var(--button-hover-fill-color);\n",
              "  }\n",
              "\n",
              "  .colab-df-quickchart-complete:disabled,\n",
              "  .colab-df-quickchart-complete:disabled:hover {\n",
              "    background-color: var(--disabled-bg-color);\n",
              "    fill: var(--disabled-fill-color);\n",
              "    box-shadow: none;\n",
              "  }\n",
              "\n",
              "  .colab-df-spinner {\n",
              "    border: 2px solid var(--fill-color);\n",
              "    border-color: transparent;\n",
              "    border-bottom-color: var(--fill-color);\n",
              "    animation:\n",
              "      spin 1s steps(1) infinite;\n",
              "  }\n",
              "\n",
              "  @keyframes spin {\n",
              "    0% {\n",
              "      border-color: transparent;\n",
              "      border-bottom-color: var(--fill-color);\n",
              "      border-left-color: var(--fill-color);\n",
              "    }\n",
              "    20% {\n",
              "      border-color: transparent;\n",
              "      border-left-color: var(--fill-color);\n",
              "      border-top-color: var(--fill-color);\n",
              "    }\n",
              "    30% {\n",
              "      border-color: transparent;\n",
              "      border-left-color: var(--fill-color);\n",
              "      border-top-color: var(--fill-color);\n",
              "      border-right-color: var(--fill-color);\n",
              "    }\n",
              "    40% {\n",
              "      border-color: transparent;\n",
              "      border-right-color: var(--fill-color);\n",
              "      border-top-color: var(--fill-color);\n",
              "    }\n",
              "    60% {\n",
              "      border-color: transparent;\n",
              "      border-right-color: var(--fill-color);\n",
              "    }\n",
              "    80% {\n",
              "      border-color: transparent;\n",
              "      border-right-color: var(--fill-color);\n",
              "      border-bottom-color: var(--fill-color);\n",
              "    }\n",
              "    90% {\n",
              "      border-color: transparent;\n",
              "      border-bottom-color: var(--fill-color);\n",
              "    }\n",
              "  }\n",
              "</style>\n",
              "\n",
              "  <script>\n",
              "    async function quickchart(key) {\n",
              "      const quickchartButtonEl =\n",
              "        document.querySelector('#' + key + ' button');\n",
              "      quickchartButtonEl.disabled = true;  // To prevent multiple clicks.\n",
              "      quickchartButtonEl.classList.add('colab-df-spinner');\n",
              "      try {\n",
              "        const charts = await google.colab.kernel.invokeFunction(\n",
              "            'suggestCharts', [key], {});\n",
              "      } catch (error) {\n",
              "        console.error('Error during call to suggestCharts:', error);\n",
              "      }\n",
              "      quickchartButtonEl.classList.remove('colab-df-spinner');\n",
              "      quickchartButtonEl.classList.add('colab-df-quickchart-complete');\n",
              "    }\n",
              "    (() => {\n",
              "      let quickchartButtonEl =\n",
              "        document.querySelector('#df-ed09f206-58bd-4468-bf68-ee2a8b0451fc button');\n",
              "      quickchartButtonEl.style.display =\n",
              "        google.colab.kernel.accessAllowed ? 'block' : 'none';\n",
              "    })();\n",
              "  </script>\n",
              "</div>\n",
              "\n",
              "    </div>\n",
              "  </div>\n"
            ],
            "application/vnd.google.colaboratory.intrinsic+json": {
              "type": "dataframe",
              "variable_name": "df",
              "summary": "{\n  \"name\": \"df\",\n  \"rows\": 16638,\n  \"fields\": [\n    {\n      \"column\": \"movie_title\",\n      \"properties\": {\n        \"dtype\": \"string\",\n        \"num_unique_values\": 16106,\n        \"samples\": [\n          \"White Dog\",\n          \"Out to Sea\",\n          \"The Social Network\"\n        ],\n        \"semantic_type\": \"\",\n        \"description\": \"\"\n      }\n    },\n    {\n      \"column\": \"movie_info\",\n      \"properties\": {\n        \"dtype\": \"string\",\n        \"num_unique_values\": 16613,\n        \"samples\": [\n          \"The Wild West meets the Far East in a battle for honor, royalty and a trunk full of gold when acrobatic Imperial Guard Chong Wang comes to America to rescue a beautiful kidnapped Chinese princess. With the help of a partner he doesn't trust, a wife he doesn't want, a horse he cannot ride and martial arts moves that no one can believe, Chan finds himself facing the meanest gunslingers in the West.\",\n          \"Yusef is a first-generation Pakistani-American engineering student who moves off-campus with a group of Muslim punks in Buffalo, New York. His new \\\"un-orthodox\\\" housemates soon introduce him to Taqwacore - a hardcore, Muslim punk rock scene. As the seasons change, Taqwacore influences the house more and more. The living room becomes a mosque during the day, while it continues to host punk shows at night. Ultimately, Yusef begins to challenge his own faith and ideologies. A powerful and original story of punk Islam in the USA and the discovery of oneself within the confines of religion. -- (C) Strand\",\n          \"Filthy. Rich. Spoiled. Rotten. A band of overprivileged rich boys run wild in this savagely funny satire of money, sex and power. In the elite realm of Oxford University, no society is more exclusive than The Riot Club, the ultra-selective fraternity for Britain's most privileged sons. When he's recruited to join, down-to-earth first-year student Miles (Max Irons) is at first amused-but he's about to get a taste of upper-crust entitlement at its ugliest when a hedonistic night of drinking and drugs spins out of control. The Hunger Games' Sam Claflin co-stars in this deliciously dark look at boys behaving badly from the Oscar(R)-nominated director of An Education. (C) IFC\"\n        ],\n        \"semantic_type\": \"\",\n        \"description\": \"\"\n      }\n    },\n    {\n      \"column\": \"critics_consensus\",\n      \"properties\": {\n        \"dtype\": \"category\",\n        \"num_unique_values\": 8307,\n        \"samples\": [\n          \"Lost and Delirious becomes exactly that, as the film sinks into overwrought melodrama and cliched, obvious symbolism.\",\n          \"Churchill gets sterling work out of Brian Cox in the leading role, but it isn't enough to overcome a muddled and ultimately unsuccessful approach to an incredible real-life story.\",\n          \"The Last Face's noble intentions are nowhere near enough to carry a fundamentally misguided story that arguably demeans the demographic it wants to defend.\"\n        ],\n        \"semantic_type\": \"\",\n        \"description\": \"\"\n      }\n    },\n    {\n      \"column\": \"rating\",\n      \"properties\": {\n        \"dtype\": \"category\",\n        \"num_unique_values\": 8,\n        \"samples\": [\n          \"R\",\n          \"PG-13)\",\n          \"PG\"\n        ],\n        \"semantic_type\": \"\",\n        \"description\": \"\"\n      }\n    },\n    {\n      \"column\": \"genre\",\n      \"properties\": {\n        \"dtype\": \"category\",\n        \"num_unique_values\": 1080,\n        \"samples\": [\n          \"Drama, Kids & Family, Musical & Performing Arts\",\n          \"Drama, Western, Romance\",\n          \"Art House & International, Comedy, Drama, Musical & Performing Arts, Science Fiction & Fantasy\"\n        ],\n        \"semantic_type\": \"\",\n        \"description\": \"\"\n      }\n    },\n    {\n      \"column\": \"directors\",\n      \"properties\": {\n        \"dtype\": \"category\",\n        \"num_unique_values\": 8314,\n        \"samples\": [\n          \"David Caesar\",\n          \"Mikkel Br\\u221a\\u00b6nne Sandemose\",\n          \"K.C. Bascombe\"\n        ],\n        \"semantic_type\": \"\",\n        \"description\": \"\"\n      }\n    },\n    {\n      \"column\": \"writers\",\n      \"properties\": {\n        \"dtype\": \"string\",\n        \"num_unique_values\": 12121,\n        \"samples\": [\n          \"Peter Tolan\",\n          \"Pedro Gonz\\u221a\\u00b0lez-Rubio\",\n          \"Fran\\u221a\\u00dfois Truffaut, Jean-Louis Richard, Helen Scott, David Rudkin\"\n        ],\n        \"semantic_type\": \"\",\n        \"description\": \"\"\n      }\n    },\n    {\n      \"column\": \"cast\",\n      \"properties\": {\n        \"dtype\": \"string\",\n        \"num_unique_values\": 16326,\n        \"samples\": [\n          \"Casper Van Dien, Jane March, Steven Waddington, Winston Ntshona, Rapulana Seiphemo, Sean Taylor, Gys de Villiers, Russel Savadier, Paul Buckby, Zane Meas, Barry Berk, Michael Gritten, Dimitri Cassar, Tony Caprari, Kurt Wurstman, Chris Olley, Joshua Lindberg, Henry van der Berg, Pete Janschk, Danie van Reinsberg, Aubrey Lovett, Paolo Tocha, Nickie Grigg, Neville Strydom, Dieter Hoffman, Pierre van Rensburg, Bismulah Mdaka, Sello Sebotiane, Sello Dlamini, Chester Fukazi, Grant Swanby, Adam Crousdale, Nick Rujewick, Brendan Stapelton, Amy Pearson, Jeneane Wyatt-Mair, Cheryl Lang, Flash Trobajane\",\n          \"Jeanne Bell, Robert De Niro, Harvey Keitel, Amy Robinson, David Proval, Richard Romanus, Cesare Danova, George Memmoli, Julie Andelman, Lenny Scaletta, Jeannie Bell, Victor Argo, Murray Moston, David Carradine, Robert Carradine, Jeanie Bell, Lois Walden, Harry Northrup, Dino Seragusa, D'Mitch Davis, Peter Fain, Juli Andelman, Robert Wilder, Ken Sinclair, Catherine Scorsese, Martin Scorsese, Jaime Alba\",\n          \"Billy Crudup, Ezra Miller, Michael Angarano, Tye Sheridan, Johnny Simmons, Olivia Thirlby, Logan Miller, Thomas Mann, Keir Gilchrist, Gaius Charles, Ki Hong Lee, James Wolk, Moises Arias, Jack Kilmer, Chris Sheffield, James Frecheville, Nicholas Braun, Nelsan Ellis, Matt Bennett, Jesse Carere, Brett Davern, Miles Heizer, Callan McAuliffe, Benedict Samuel, Harrison Thomas, Albert Malafronte, Danielle Lauder, Kate Butler, Jim Klock, Fred Ochs, Alec Holden, Jack Foley, Ross Philips, Aidan Sussman, Armand Vasquez, Kim Robert Koscki\"\n        ],\n        \"semantic_type\": \"\",\n        \"description\": \"\"\n      }\n    },\n    {\n      \"column\": \"in_theaters_date\",\n      \"properties\": {\n        \"dtype\": \"date\",\n        \"min\": \"1914-06-01 00:00:00\",\n        \"max\": \"2019-12-07 00:00:00\",\n        \"num_unique_values\": 5586,\n        \"samples\": [\n          \"1984-01-27 00:00:00\",\n          \"2001-11-02 00:00:00\",\n          \"2007-01-18 00:00:00\"\n        ],\n        \"semantic_type\": \"\",\n        \"description\": \"\"\n      }\n    },\n    {\n      \"column\": \"on_streaming_date\",\n      \"properties\": {\n        \"dtype\": \"date\",\n        \"min\": \"1935-06-06 00:00:00\",\n        \"max\": \"2019-11-01 00:00:00\",\n        \"num_unique_values\": 2260,\n        \"samples\": [\n          \"1995-03-14 00:00:00\",\n          \"2018-07-27 00:00:00\",\n          \"2013-08-27 00:00:00\"\n        ],\n        \"semantic_type\": \"\",\n        \"description\": \"\"\n      }\n    },\n    {\n      \"column\": \"runtime_in_minutes\",\n      \"properties\": {\n        \"dtype\": \"number\",\n        \"std\": 25.02801086709842,\n        \"min\": 1.0,\n        \"max\": 2000.0,\n        \"num_unique_values\": 201,\n        \"samples\": [\n          66.0,\n          86.0,\n          91.0\n        ],\n        \"semantic_type\": \"\",\n        \"description\": \"\"\n      }\n    },\n    {\n      \"column\": \"studio_name\",\n      \"properties\": {\n        \"dtype\": \"category\",\n        \"num_unique_values\": 2886,\n        \"samples\": [\n          \"Three Kings\",\n          \"Original Cinema\",\n          \"Rockstone Releasing\"\n        ],\n        \"semantic_type\": \"\",\n        \"description\": \"\"\n      }\n    },\n    {\n      \"column\": \"tomatometer_status\",\n      \"properties\": {\n        \"dtype\": \"category\",\n        \"num_unique_values\": 3,\n        \"samples\": [\n          \"Rotten\",\n          \"Certified Fresh\",\n          \"Fresh\"\n        ],\n        \"semantic_type\": \"\",\n        \"description\": \"\"\n      }\n    },\n    {\n      \"column\": \"tomatometer_rating\",\n      \"properties\": {\n        \"dtype\": \"number\",\n        \"std\": 28,\n        \"min\": 0,\n        \"max\": 100,\n        \"num_unique_values\": 101,\n        \"samples\": [\n          95,\n          72,\n          12\n        ],\n        \"semantic_type\": \"\",\n        \"description\": \"\"\n      }\n    },\n    {\n      \"column\": \"tomatometer_count\",\n      \"properties\": {\n        \"dtype\": \"number\",\n        \"std\": 66,\n        \"min\": 5,\n        \"max\": 497,\n        \"num_unique_values\": 393,\n        \"samples\": [\n          65,\n          250,\n          308\n        ],\n        \"semantic_type\": \"\",\n        \"description\": \"\"\n      }\n    },\n    {\n      \"column\": \"audience_rating\",\n      \"properties\": {\n        \"dtype\": \"number\",\n        \"std\": 20.462367575517256,\n        \"min\": 0.0,\n        \"max\": 100.0,\n        \"num_unique_values\": 98,\n        \"samples\": [\n          44.0,\n          55.0,\n          99.0\n        ],\n        \"semantic_type\": \"\",\n        \"description\": \"\"\n      }\n    }\n  ]\n}"
            }
          },
          "metadata": {},
          "execution_count": 3
        }
      ]
    },
    {
      "cell_type": "code",
      "source": [
        "print(\"\\nStatistical Summary:\\n\")\n",
        "df.describe()"
      ],
      "metadata": {
        "colab": {
          "base_uri": "https://localhost:8080/",
          "height": 372
        },
        "id": "tQAA0IF_kGfg",
        "outputId": "005a9452-ed75-4d23-a58d-c4f7d8cc62cf"
      },
      "execution_count": 4,
      "outputs": [
        {
          "output_type": "stream",
          "name": "stdout",
          "text": [
            "\n",
            "Statistical Summary:\n",
            "\n"
          ]
        },
        {
          "output_type": "execute_result",
          "data": {
            "text/plain": [
              "                    in_theaters_date              on_streaming_date  \\\n",
              "count                          15823                          16636   \n",
              "mean   1999-10-24 22:10:52.973519488  2008-08-13 13:35:49.266650624   \n",
              "min              1914-06-01 00:00:00            1935-06-06 00:00:00   \n",
              "25%              1993-03-29 00:00:00            2003-01-28 00:00:00   \n",
              "50%              2006-08-04 00:00:00            2008-04-08 00:00:00   \n",
              "75%              2013-06-28 00:00:00            2014-05-12 00:00:00   \n",
              "max              2019-12-07 00:00:00            2019-11-01 00:00:00   \n",
              "std                              NaN                            NaN   \n",
              "\n",
              "       runtime_in_minutes  tomatometer_rating  tomatometer_count  \\\n",
              "count        16483.000000        16638.000000       16638.000000   \n",
              "mean           102.391494           60.466522          56.607104   \n",
              "min              1.000000            0.000000           5.000000   \n",
              "25%             90.000000           38.000000          12.000000   \n",
              "50%             99.000000           66.000000          28.000000   \n",
              "75%            111.000000           86.000000          76.000000   \n",
              "max           2000.000000          100.000000         497.000000   \n",
              "std             25.028011           28.587230          66.383800   \n",
              "\n",
              "       audience_rating  \n",
              "count     16386.000000  \n",
              "mean         60.470829  \n",
              "min           0.000000  \n",
              "25%          45.000000  \n",
              "50%          62.000000  \n",
              "75%          77.000000  \n",
              "max         100.000000  \n",
              "std          20.462368  "
            ],
            "text/html": [
              "\n",
              "  <div id=\"df-44cd0f99-005d-4c21-9165-aced24b62361\" class=\"colab-df-container\">\n",
              "    <div>\n",
              "<style scoped>\n",
              "    .dataframe tbody tr th:only-of-type {\n",
              "        vertical-align: middle;\n",
              "    }\n",
              "\n",
              "    .dataframe tbody tr th {\n",
              "        vertical-align: top;\n",
              "    }\n",
              "\n",
              "    .dataframe thead th {\n",
              "        text-align: right;\n",
              "    }\n",
              "</style>\n",
              "<table border=\"1\" class=\"dataframe\">\n",
              "  <thead>\n",
              "    <tr style=\"text-align: right;\">\n",
              "      <th></th>\n",
              "      <th>in_theaters_date</th>\n",
              "      <th>on_streaming_date</th>\n",
              "      <th>runtime_in_minutes</th>\n",
              "      <th>tomatometer_rating</th>\n",
              "      <th>tomatometer_count</th>\n",
              "      <th>audience_rating</th>\n",
              "    </tr>\n",
              "  </thead>\n",
              "  <tbody>\n",
              "    <tr>\n",
              "      <th>count</th>\n",
              "      <td>15823</td>\n",
              "      <td>16636</td>\n",
              "      <td>16483.000000</td>\n",
              "      <td>16638.000000</td>\n",
              "      <td>16638.000000</td>\n",
              "      <td>16386.000000</td>\n",
              "    </tr>\n",
              "    <tr>\n",
              "      <th>mean</th>\n",
              "      <td>1999-10-24 22:10:52.973519488</td>\n",
              "      <td>2008-08-13 13:35:49.266650624</td>\n",
              "      <td>102.391494</td>\n",
              "      <td>60.466522</td>\n",
              "      <td>56.607104</td>\n",
              "      <td>60.470829</td>\n",
              "    </tr>\n",
              "    <tr>\n",
              "      <th>min</th>\n",
              "      <td>1914-06-01 00:00:00</td>\n",
              "      <td>1935-06-06 00:00:00</td>\n",
              "      <td>1.000000</td>\n",
              "      <td>0.000000</td>\n",
              "      <td>5.000000</td>\n",
              "      <td>0.000000</td>\n",
              "    </tr>\n",
              "    <tr>\n",
              "      <th>25%</th>\n",
              "      <td>1993-03-29 00:00:00</td>\n",
              "      <td>2003-01-28 00:00:00</td>\n",
              "      <td>90.000000</td>\n",
              "      <td>38.000000</td>\n",
              "      <td>12.000000</td>\n",
              "      <td>45.000000</td>\n",
              "    </tr>\n",
              "    <tr>\n",
              "      <th>50%</th>\n",
              "      <td>2006-08-04 00:00:00</td>\n",
              "      <td>2008-04-08 00:00:00</td>\n",
              "      <td>99.000000</td>\n",
              "      <td>66.000000</td>\n",
              "      <td>28.000000</td>\n",
              "      <td>62.000000</td>\n",
              "    </tr>\n",
              "    <tr>\n",
              "      <th>75%</th>\n",
              "      <td>2013-06-28 00:00:00</td>\n",
              "      <td>2014-05-12 00:00:00</td>\n",
              "      <td>111.000000</td>\n",
              "      <td>86.000000</td>\n",
              "      <td>76.000000</td>\n",
              "      <td>77.000000</td>\n",
              "    </tr>\n",
              "    <tr>\n",
              "      <th>max</th>\n",
              "      <td>2019-12-07 00:00:00</td>\n",
              "      <td>2019-11-01 00:00:00</td>\n",
              "      <td>2000.000000</td>\n",
              "      <td>100.000000</td>\n",
              "      <td>497.000000</td>\n",
              "      <td>100.000000</td>\n",
              "    </tr>\n",
              "    <tr>\n",
              "      <th>std</th>\n",
              "      <td>NaN</td>\n",
              "      <td>NaN</td>\n",
              "      <td>25.028011</td>\n",
              "      <td>28.587230</td>\n",
              "      <td>66.383800</td>\n",
              "      <td>20.462368</td>\n",
              "    </tr>\n",
              "  </tbody>\n",
              "</table>\n",
              "</div>\n",
              "    <div class=\"colab-df-buttons\">\n",
              "\n",
              "  <div class=\"colab-df-container\">\n",
              "    <button class=\"colab-df-convert\" onclick=\"convertToInteractive('df-44cd0f99-005d-4c21-9165-aced24b62361')\"\n",
              "            title=\"Convert this dataframe to an interactive table.\"\n",
              "            style=\"display:none;\">\n",
              "\n",
              "  <svg xmlns=\"http://www.w3.org/2000/svg\" height=\"24px\" viewBox=\"0 -960 960 960\">\n",
              "    <path d=\"M120-120v-720h720v720H120Zm60-500h600v-160H180v160Zm220 220h160v-160H400v160Zm0 220h160v-160H400v160ZM180-400h160v-160H180v160Zm440 0h160v-160H620v160ZM180-180h160v-160H180v160Zm440 0h160v-160H620v160Z\"/>\n",
              "  </svg>\n",
              "    </button>\n",
              "\n",
              "  <style>\n",
              "    .colab-df-container {\n",
              "      display:flex;\n",
              "      gap: 12px;\n",
              "    }\n",
              "\n",
              "    .colab-df-convert {\n",
              "      background-color: #E8F0FE;\n",
              "      border: none;\n",
              "      border-radius: 50%;\n",
              "      cursor: pointer;\n",
              "      display: none;\n",
              "      fill: #1967D2;\n",
              "      height: 32px;\n",
              "      padding: 0 0 0 0;\n",
              "      width: 32px;\n",
              "    }\n",
              "\n",
              "    .colab-df-convert:hover {\n",
              "      background-color: #E2EBFA;\n",
              "      box-shadow: 0px 1px 2px rgba(60, 64, 67, 0.3), 0px 1px 3px 1px rgba(60, 64, 67, 0.15);\n",
              "      fill: #174EA6;\n",
              "    }\n",
              "\n",
              "    .colab-df-buttons div {\n",
              "      margin-bottom: 4px;\n",
              "    }\n",
              "\n",
              "    [theme=dark] .colab-df-convert {\n",
              "      background-color: #3B4455;\n",
              "      fill: #D2E3FC;\n",
              "    }\n",
              "\n",
              "    [theme=dark] .colab-df-convert:hover {\n",
              "      background-color: #434B5C;\n",
              "      box-shadow: 0px 1px 3px 1px rgba(0, 0, 0, 0.15);\n",
              "      filter: drop-shadow(0px 1px 2px rgba(0, 0, 0, 0.3));\n",
              "      fill: #FFFFFF;\n",
              "    }\n",
              "  </style>\n",
              "\n",
              "    <script>\n",
              "      const buttonEl =\n",
              "        document.querySelector('#df-44cd0f99-005d-4c21-9165-aced24b62361 button.colab-df-convert');\n",
              "      buttonEl.style.display =\n",
              "        google.colab.kernel.accessAllowed ? 'block' : 'none';\n",
              "\n",
              "      async function convertToInteractive(key) {\n",
              "        const element = document.querySelector('#df-44cd0f99-005d-4c21-9165-aced24b62361');\n",
              "        const dataTable =\n",
              "          await google.colab.kernel.invokeFunction('convertToInteractive',\n",
              "                                                    [key], {});\n",
              "        if (!dataTable) return;\n",
              "\n",
              "        const docLinkHtml = 'Like what you see? Visit the ' +\n",
              "          '<a target=\"_blank\" href=https://colab.research.google.com/notebooks/data_table.ipynb>data table notebook</a>'\n",
              "          + ' to learn more about interactive tables.';\n",
              "        element.innerHTML = '';\n",
              "        dataTable['output_type'] = 'display_data';\n",
              "        await google.colab.output.renderOutput(dataTable, element);\n",
              "        const docLink = document.createElement('div');\n",
              "        docLink.innerHTML = docLinkHtml;\n",
              "        element.appendChild(docLink);\n",
              "      }\n",
              "    </script>\n",
              "  </div>\n",
              "\n",
              "\n",
              "<div id=\"df-4bbdefb6-5b6c-4e2a-ac85-7ced1bb9aac7\">\n",
              "  <button class=\"colab-df-quickchart\" onclick=\"quickchart('df-4bbdefb6-5b6c-4e2a-ac85-7ced1bb9aac7')\"\n",
              "            title=\"Suggest charts\"\n",
              "            style=\"display:none;\">\n",
              "\n",
              "<svg xmlns=\"http://www.w3.org/2000/svg\" height=\"24px\"viewBox=\"0 0 24 24\"\n",
              "     width=\"24px\">\n",
              "    <g>\n",
              "        <path d=\"M19 3H5c-1.1 0-2 .9-2 2v14c0 1.1.9 2 2 2h14c1.1 0 2-.9 2-2V5c0-1.1-.9-2-2-2zM9 17H7v-7h2v7zm4 0h-2V7h2v10zm4 0h-2v-4h2v4z\"/>\n",
              "    </g>\n",
              "</svg>\n",
              "  </button>\n",
              "\n",
              "<style>\n",
              "  .colab-df-quickchart {\n",
              "      --bg-color: #E8F0FE;\n",
              "      --fill-color: #1967D2;\n",
              "      --hover-bg-color: #E2EBFA;\n",
              "      --hover-fill-color: #174EA6;\n",
              "      --disabled-fill-color: #AAA;\n",
              "      --disabled-bg-color: #DDD;\n",
              "  }\n",
              "\n",
              "  [theme=dark] .colab-df-quickchart {\n",
              "      --bg-color: #3B4455;\n",
              "      --fill-color: #D2E3FC;\n",
              "      --hover-bg-color: #434B5C;\n",
              "      --hover-fill-color: #FFFFFF;\n",
              "      --disabled-bg-color: #3B4455;\n",
              "      --disabled-fill-color: #666;\n",
              "  }\n",
              "\n",
              "  .colab-df-quickchart {\n",
              "    background-color: var(--bg-color);\n",
              "    border: none;\n",
              "    border-radius: 50%;\n",
              "    cursor: pointer;\n",
              "    display: none;\n",
              "    fill: var(--fill-color);\n",
              "    height: 32px;\n",
              "    padding: 0;\n",
              "    width: 32px;\n",
              "  }\n",
              "\n",
              "  .colab-df-quickchart:hover {\n",
              "    background-color: var(--hover-bg-color);\n",
              "    box-shadow: 0 1px 2px rgba(60, 64, 67, 0.3), 0 1px 3px 1px rgba(60, 64, 67, 0.15);\n",
              "    fill: var(--button-hover-fill-color);\n",
              "  }\n",
              "\n",
              "  .colab-df-quickchart-complete:disabled,\n",
              "  .colab-df-quickchart-complete:disabled:hover {\n",
              "    background-color: var(--disabled-bg-color);\n",
              "    fill: var(--disabled-fill-color);\n",
              "    box-shadow: none;\n",
              "  }\n",
              "\n",
              "  .colab-df-spinner {\n",
              "    border: 2px solid var(--fill-color);\n",
              "    border-color: transparent;\n",
              "    border-bottom-color: var(--fill-color);\n",
              "    animation:\n",
              "      spin 1s steps(1) infinite;\n",
              "  }\n",
              "\n",
              "  @keyframes spin {\n",
              "    0% {\n",
              "      border-color: transparent;\n",
              "      border-bottom-color: var(--fill-color);\n",
              "      border-left-color: var(--fill-color);\n",
              "    }\n",
              "    20% {\n",
              "      border-color: transparent;\n",
              "      border-left-color: var(--fill-color);\n",
              "      border-top-color: var(--fill-color);\n",
              "    }\n",
              "    30% {\n",
              "      border-color: transparent;\n",
              "      border-left-color: var(--fill-color);\n",
              "      border-top-color: var(--fill-color);\n",
              "      border-right-color: var(--fill-color);\n",
              "    }\n",
              "    40% {\n",
              "      border-color: transparent;\n",
              "      border-right-color: var(--fill-color);\n",
              "      border-top-color: var(--fill-color);\n",
              "    }\n",
              "    60% {\n",
              "      border-color: transparent;\n",
              "      border-right-color: var(--fill-color);\n",
              "    }\n",
              "    80% {\n",
              "      border-color: transparent;\n",
              "      border-right-color: var(--fill-color);\n",
              "      border-bottom-color: var(--fill-color);\n",
              "    }\n",
              "    90% {\n",
              "      border-color: transparent;\n",
              "      border-bottom-color: var(--fill-color);\n",
              "    }\n",
              "  }\n",
              "</style>\n",
              "\n",
              "  <script>\n",
              "    async function quickchart(key) {\n",
              "      const quickchartButtonEl =\n",
              "        document.querySelector('#' + key + ' button');\n",
              "      quickchartButtonEl.disabled = true;  // To prevent multiple clicks.\n",
              "      quickchartButtonEl.classList.add('colab-df-spinner');\n",
              "      try {\n",
              "        const charts = await google.colab.kernel.invokeFunction(\n",
              "            'suggestCharts', [key], {});\n",
              "      } catch (error) {\n",
              "        console.error('Error during call to suggestCharts:', error);\n",
              "      }\n",
              "      quickchartButtonEl.classList.remove('colab-df-spinner');\n",
              "      quickchartButtonEl.classList.add('colab-df-quickchart-complete');\n",
              "    }\n",
              "    (() => {\n",
              "      let quickchartButtonEl =\n",
              "        document.querySelector('#df-4bbdefb6-5b6c-4e2a-ac85-7ced1bb9aac7 button');\n",
              "      quickchartButtonEl.style.display =\n",
              "        google.colab.kernel.accessAllowed ? 'block' : 'none';\n",
              "    })();\n",
              "  </script>\n",
              "</div>\n",
              "\n",
              "    </div>\n",
              "  </div>\n"
            ],
            "application/vnd.google.colaboratory.intrinsic+json": {
              "type": "dataframe",
              "summary": "{\n  \"name\": \"df\",\n  \"rows\": 8,\n  \"fields\": [\n    {\n      \"column\": \"in_theaters_date\",\n      \"properties\": {\n        \"dtype\": \"date\",\n        \"min\": \"1914-06-01 00:00:00\",\n        \"max\": \"2019-12-07 00:00:00\",\n        \"num_unique_values\": 7,\n        \"samples\": [\n          \"15823\",\n          \"1999-10-24 22:10:52.973519488\",\n          \"2013-06-28 00:00:00\"\n        ],\n        \"semantic_type\": \"\",\n        \"description\": \"\"\n      }\n    },\n    {\n      \"column\": \"on_streaming_date\",\n      \"properties\": {\n        \"dtype\": \"date\",\n        \"min\": \"1935-06-06 00:00:00\",\n        \"max\": \"2019-11-01 00:00:00\",\n        \"num_unique_values\": 7,\n        \"samples\": [\n          \"16636\",\n          \"2008-08-13 13:35:49.266650624\",\n          \"2014-05-12 00:00:00\"\n        ],\n        \"semantic_type\": \"\",\n        \"description\": \"\"\n      }\n    },\n    {\n      \"column\": \"runtime_in_minutes\",\n      \"properties\": {\n        \"dtype\": \"number\",\n        \"std\": 5744.878451493384,\n        \"min\": 1.0,\n        \"max\": 16483.0,\n        \"num_unique_values\": 8,\n        \"samples\": [\n          102.39149426682036,\n          111.0,\n          16483.0\n        ],\n        \"semantic_type\": \"\",\n        \"description\": \"\"\n      }\n    },\n    {\n      \"column\": \"tomatometer_rating\",\n      \"properties\": {\n        \"dtype\": \"number\",\n        \"std\": 5863.363230730669,\n        \"min\": 0.0,\n        \"max\": 16638.0,\n        \"num_unique_values\": 8,\n        \"samples\": [\n          60.466522418559926,\n          86.0,\n          16638.0\n        ],\n        \"semantic_type\": \"\",\n        \"description\": \"\"\n      }\n    },\n    {\n      \"column\": \"tomatometer_count\",\n      \"properties\": {\n        \"dtype\": \"number\",\n        \"std\": 5847.230450259252,\n        \"min\": 5.0,\n        \"max\": 16638.0,\n        \"num_unique_values\": 8,\n        \"samples\": [\n          56.607104219257124,\n          76.0,\n          16638.0\n        ],\n        \"semantic_type\": \"\",\n        \"description\": \"\"\n      }\n    },\n    {\n      \"column\": \"audience_rating\",\n      \"properties\": {\n        \"dtype\": \"number\",\n        \"std\": 5774.978652540891,\n        \"min\": 0.0,\n        \"max\": 16386.0,\n        \"num_unique_values\": 8,\n        \"samples\": [\n          60.47082875625534,\n          77.0,\n          16386.0\n        ],\n        \"semantic_type\": \"\",\n        \"description\": \"\"\n      }\n    }\n  ]\n}"
            }
          },
          "metadata": {},
          "execution_count": 4
        }
      ]
    },
    {
      "cell_type": "code",
      "source": [
        "# Check for null values and summary statistics\n",
        "df.isnull().sum()"
      ],
      "metadata": {
        "colab": {
          "base_uri": "https://localhost:8080/",
          "height": 585
        },
        "id": "y3VKlJ6IkdYE",
        "outputId": "5b416ac1-511c-4ee2-be58-4ccff42d0c17"
      },
      "execution_count": 5,
      "outputs": [
        {
          "output_type": "execute_result",
          "data": {
            "text/plain": [
              "movie_title              0\n",
              "movie_info              24\n",
              "critics_consensus     8329\n",
              "rating                   0\n",
              "genre                   17\n",
              "directors              114\n",
              "writers               1349\n",
              "cast                   284\n",
              "in_theaters_date       815\n",
              "on_streaming_date        2\n",
              "runtime_in_minutes     155\n",
              "studio_name            416\n",
              "tomatometer_status       0\n",
              "tomatometer_rating       0\n",
              "tomatometer_count        0\n",
              "audience_rating        252\n",
              "dtype: int64"
            ],
            "text/html": [
              "<div>\n",
              "<style scoped>\n",
              "    .dataframe tbody tr th:only-of-type {\n",
              "        vertical-align: middle;\n",
              "    }\n",
              "\n",
              "    .dataframe tbody tr th {\n",
              "        vertical-align: top;\n",
              "    }\n",
              "\n",
              "    .dataframe thead th {\n",
              "        text-align: right;\n",
              "    }\n",
              "</style>\n",
              "<table border=\"1\" class=\"dataframe\">\n",
              "  <thead>\n",
              "    <tr style=\"text-align: right;\">\n",
              "      <th></th>\n",
              "      <th>0</th>\n",
              "    </tr>\n",
              "  </thead>\n",
              "  <tbody>\n",
              "    <tr>\n",
              "      <th>movie_title</th>\n",
              "      <td>0</td>\n",
              "    </tr>\n",
              "    <tr>\n",
              "      <th>movie_info</th>\n",
              "      <td>24</td>\n",
              "    </tr>\n",
              "    <tr>\n",
              "      <th>critics_consensus</th>\n",
              "      <td>8329</td>\n",
              "    </tr>\n",
              "    <tr>\n",
              "      <th>rating</th>\n",
              "      <td>0</td>\n",
              "    </tr>\n",
              "    <tr>\n",
              "      <th>genre</th>\n",
              "      <td>17</td>\n",
              "    </tr>\n",
              "    <tr>\n",
              "      <th>directors</th>\n",
              "      <td>114</td>\n",
              "    </tr>\n",
              "    <tr>\n",
              "      <th>writers</th>\n",
              "      <td>1349</td>\n",
              "    </tr>\n",
              "    <tr>\n",
              "      <th>cast</th>\n",
              "      <td>284</td>\n",
              "    </tr>\n",
              "    <tr>\n",
              "      <th>in_theaters_date</th>\n",
              "      <td>815</td>\n",
              "    </tr>\n",
              "    <tr>\n",
              "      <th>on_streaming_date</th>\n",
              "      <td>2</td>\n",
              "    </tr>\n",
              "    <tr>\n",
              "      <th>runtime_in_minutes</th>\n",
              "      <td>155</td>\n",
              "    </tr>\n",
              "    <tr>\n",
              "      <th>studio_name</th>\n",
              "      <td>416</td>\n",
              "    </tr>\n",
              "    <tr>\n",
              "      <th>tomatometer_status</th>\n",
              "      <td>0</td>\n",
              "    </tr>\n",
              "    <tr>\n",
              "      <th>tomatometer_rating</th>\n",
              "      <td>0</td>\n",
              "    </tr>\n",
              "    <tr>\n",
              "      <th>tomatometer_count</th>\n",
              "      <td>0</td>\n",
              "    </tr>\n",
              "    <tr>\n",
              "      <th>audience_rating</th>\n",
              "      <td>252</td>\n",
              "    </tr>\n",
              "  </tbody>\n",
              "</table>\n",
              "</div><br><label><b>dtype:</b> int64</label>"
            ]
          },
          "metadata": {},
          "execution_count": 5
        }
      ]
    },
    {
      "cell_type": "markdown",
      "source": [
        "Audience Rating Distribution"
      ],
      "metadata": {
        "id": "ZgAjigY_hxrZ"
      }
    },
    {
      "source": [
        "#Step 2:\n",
        "# Check if the target variable exists\n",
        "if 'audience_rating' in df.columns:\n",
        "    # Create a figure and axes\n",
        "    fig, ax = plt.subplots(figsize=(10, 6))\n",
        "\n",
        "    # Plot the histogram with sky blue color\n",
        "    sns.histplot(df['audience_rating'], bins=30, color='pink', ax=ax)\n",
        "\n",
        "    # Overlay the KDE plot with yellow color fill inside the waveform\n",
        "    sns.kdeplot(df['audience_rating'], color='skyblue', fill=True, ax=ax)\n",
        "\n",
        "    # Set the title and labels\n",
        "    plt.title('Distribution of Audience Rating', fontsize=16, color='black')\n",
        "    plt.xlabel('Audience Rating', fontsize=12, color='black')\n",
        "    plt.ylabel('Frequency', fontsize=12, color='black')\n",
        "\n",
        "    # Show the plot\n",
        "    plt.show()\n",
        "else:\n",
        "    raise ValueError(\"The target variable 'audience_rating' is not in the dataset.\")"
      ],
      "cell_type": "code",
      "metadata": {
        "colab": {
          "base_uri": "https://localhost:8080/",
          "height": 570
        },
        "id": "lR8LqfDCl9mv",
        "outputId": "ecae4549-1494-489a-9f4b-4127e5f68fd0"
      },
      "execution_count": 6,
      "outputs": [
        {
          "output_type": "display_data",
          "data": {
            "text/plain": [
              "<Figure size 1000x600 with 1 Axes>"
            ],
            "image/png": "[encoded data removed]"
          },
          "metadata": {}
        }
      ]
    },
    {
      "cell_type": "markdown",
      "source": [
        " Data Preprocessing"
      ],
      "metadata": {
        "id": "0BVI_PFhi1VH"
      }
    },
    {
      "source": [
        "# Step 3: Data Preprocessing\n",
        "# Handle missing values (e.g., drop or impute)\n",
        "df = df.dropna()  # Drop rows with missing values\n",
        "\n",
        "# Convert DateTime columns to numeric features (if any)\n",
        "#datetime_cols = df.select_dtypes(include=['datetime64']).columns #Original line\n",
        "datetime_cols = df.select_dtypes(include=['datetime64[ns]']).columns #Updated line to specify nanosecond precision\n",
        "for col in datetime_cols:\n",
        "    df[col] = df[col].astype(np.int64)  # Convert to Unix timestamp (numeric format)\n",
        "\n",
        "# Encode categorical features\n",
        "label_encoders = {}\n",
        "categorical_cols = df.select_dtypes(include=['object']).columns\n",
        "for col in categorical_cols:\n",
        "    # Check if the column contains mixed types and convert to string if necessary\n",
        "    if df[col].apply(type).nunique() > 1:  # Check for multiple types\n",
        "        df[col] = df[col].astype(str)  # Convert all values to strings\n",
        "\n",
        "    le = LabelEncoder()\n",
        "    df[col] = le.fit_transform(df[col])\n",
        "    label_encoders[col] = le\n",
        "\n",
        "# Feature-target split\n",
        "X = df.drop(columns=['audience_rating'])\n",
        "y = df['audience_rating']\n",
        "\n",
        "# Train-test split\n",
        "X_train, X_test, y_train, y_test = train_test_split(X, y, test_size=0.2, random_state=42)"
      ],
      "cell_type": "code",
      "metadata": {
        "id": "2B6DpAK2ogSk",
        "collapsed": true
      },
      "execution_count": 28,
      "outputs": []
    },
    {
      "cell_type": "markdown",
      "source": [
        "Model Evaluation and Performance Comparison"
      ],
      "metadata": {
        "id": "3STgin9HjBXc"
      }
    },
    {
      "cell_type": "code",
      "source": [
        "# Step 4: Model Selection and Training\n",
        "from sklearn.svm import SVR\n",
        "from sklearn.metrics import mean_absolute_error, mean_squared_error, r2_score\n",
        "from sklearn.neighbors import KNeighborsRegressor\n",
        "from sklearn.ensemble import RandomForestRegressor\n",
        "\n",
        "\n",
        "# Define the models to evaluate (replacing DecisionTreeRegressor with KNN)\n",
        "models = {\n",
        "    'Support Vector Machine': SVR(),\n",
        "    'K-Nearest Neighbors': KNeighborsRegressor(),\n",
        "    'Random Forest': RandomForestRegressor(n_estimators=100, random_state=42)\n",
        "}\n",
        "\n",
        "# Initialize a dictionary to store evaluation results\n",
        "evaluation_results = {}\n",
        "\n",
        "# Evaluate models\n",
        "print(\"\\nModel Performance:\")\n",
        "for name, model in models.items():\n",
        "    try:\n",
        "        # Fit the model to the training data\n",
        "        model.fit(X_train, y_train)\n",
        "\n",
        "        # Make predictions on the test set\n",
        "        y_pred = model.predict(X_test)\n",
        "\n",
        "        # Calculate the evaluation metrics\n",
        "        mae = mean_absolute_error(y_test, y_pred)\n",
        "        mse = mean_squared_error(y_test, y_pred)\n",
        "        r2 = r2_score(y_test, y_pred)\n",
        "\n",
        "        # Store the results in the dictionary\n",
        "        evaluation_results[name] = {\n",
        "            'MAE': mae,\n",
        "            'MSE': mse,\n",
        "            'R2 Score': r2\n",
        "        }\n",
        "\n",
        "        # Print the performance of each model\n",
        "        print(f\"{name} Performance:\")\n",
        "        print(f\" MAE: {mae:.4f}, MSE: {mse:.4f}, R2 Score: {r2:.4f}\\n\")\n",
        "\n",
        "    except Exception as e:\n",
        "        # Handle any errors that occur during fitting or prediction\n",
        "        print(f\"Error with model {name}: {e}\")\n",
        "\n",
        "# Optional: Show evaluation results in a DataFrame for better clarity\n",
        "evaluation_df = pd.DataFrame(evaluation_results)\n",
        "print(\"\\nModel Evaluation Summary:\")\n",
        "print(evaluation_df)\n"
      ],
      "metadata": {
        "colab": {
          "base_uri": "https://localhost:8080/"
        },
        "id": "__zepOlSowTO",
        "outputId": "84b2871b-0b10-4658-a059-90223f627cf0"
      },
      "execution_count": 8,
      "outputs": [
        {
          "output_type": "stream",
          "name": "stdout",
          "text": [
            "\n",
            "Model Performance:\n",
            "Support Vector Machine Performance:\n",
            " MAE: 15.5742, MSE: 360.6962, R2 Score: 0.0518\n",
            "\n",
            "K-Nearest Neighbors Performance:\n",
            " MAE: 16.0967, MSE: 390.0383, R2 Score: -0.0253\n",
            "\n",
            "Random Forest Performance:\n",
            " MAE: 9.7016, MSE: 151.8937, R2 Score: 0.6007\n",
            "\n",
            "\n",
            "Model Evaluation Summary:\n",
            "          Support Vector Machine  K-Nearest Neighbors  Random Forest\n",
            "MAE                    15.574244            16.096715       9.701557\n",
            "MSE                   360.696175           390.038265     151.893662\n",
            "R2 Score                0.051815            -0.025319       0.600707\n"
          ]
        }
      ]
    },
    {
      "cell_type": "markdown",
      "source": [
        "Hyperparameter Tuning for Random Forest"
      ],
      "metadata": {
        "id": "aFSMSN0vjaTx"
      }
    },
    {
      "cell_type": "code",
      "source": [
        "# Step 5: Hyperparameter Tuning for Random Forest\n",
        "param_grid = {\n",
        "    'n_estimators': [50, 100, 150],\n",
        "    'max_depth': [None, 10, 20, 30],\n",
        "    'min_samples_split': [2, 5, 10]\n",
        "}\n",
        "\n"
      ],
      "metadata": {
        "id": "tmQPlPRdsm6G"
      },
      "execution_count": 9,
      "outputs": []
    },
    {
      "cell_type": "code",
      "source": [
        "grid_search = GridSearchCV(RandomForestRegressor(random_state=42), param_grid, cv=5, scoring='r2')\n",
        "grid_search.fit(X_train, y_train)\n",
        "\n",
        "\n",
        "print(\"Best Hyperparameters for Random Forest:\", grid_search.best_params_)"
      ],
      "metadata": {
        "id": "8qszv6BXtJsM",
        "colab": {
          "base_uri": "https://localhost:8080/"
        },
        "outputId": "65f518b2-2405-4fe6-eeed-cb25081e684a"
      },
      "execution_count": 10,
      "outputs": [
        {
          "metadata": {
            "tags": null
          },
          "name": "stdout",
          "output_type": "stream",
          "text": [
            "Best Hyperparameters for Random Forest: {'max_depth': 10, 'min_samples_split': 2, 'n_estimators': 150}\n"
          ]
        }
      ]
    },
    {
      "cell_type": "code",
      "source": [
        "# Final Model Evaluation\n",
        "best_rf = grid_search.best_estimator_\n",
        "y_pred_final = best_rf.predict(X_test)\n",
        "print(\"\\nFinal Model Performance:\")\n",
        "print(\"MAE:\", mean_absolute_error(y_test, y_pred_final))\n",
        "print(\"MSE:\", mean_squared_error(y_test, y_pred_final))\n",
        "print(\"R2 Score:\", r2_score(y_test, y_pred_final))\n"
      ],
      "metadata": {
        "id": "Q8IRMG6TtRDg",
        "colab": {
          "base_uri": "https://localhost:8080/"
        },
        "outputId": "0d523cc5-4042-42f9-a1e5-e8732eea923f"
      },
      "execution_count": 11,
      "outputs": [
        {
          "output_type": "stream",
          "name": "stdout",
          "text": [
            "\n",
            "Final Model Performance:\n",
            "MAE: 9.652784350309696\n",
            "MSE: 148.868122561332\n",
            "R2 Score: 0.6086606890032331\n"
          ]
        }
      ]
    },
    {
      "cell_type": "markdown",
      "source": [
        "\n",
        " Pipeline"
      ],
      "metadata": {
        "id": "tI-YzQNgjq86"
      }
    },
    {
      "cell_type": "code",
      "source": [
        "# Step 6: Pipeline Creation\n",
        "\n",
        "pipeline = Pipeline([\n",
        "    ('scaler', StandardScaler()),\n",
        "    ('model', RandomForestRegressor(**grid_search.best_params_, random_state=42))\n",
        "])\n",
        "\n",
        "pipeline.fit(X_train, y_train)\n",
        "final_predictions = pipeline.predict(X_test)\n",
        "print(\"Pipeline R2 Score:\", r2_score(y_test, final_predictions))"
      ],
      "metadata": {
        "id": "eJYKU30Yta6_",
        "colab": {
          "base_uri": "https://localhost:8080/"
        },
        "outputId": "7a9406ab-89ae-4315-9e5b-f0d00dfc591b"
      },
      "execution_count": 17,
      "outputs": [
        {
          "output_type": "stream",
          "name": "stdout",
          "text": [
            "Pipeline R2 Score: 0.6088263694628949\n"
          ]
        }
      ]
    },
    {
      "cell_type": "markdown",
      "source": [
        "Code for Preprocessing and Prediction"
      ],
      "metadata": {
        "id": "81kCsTQdcI2X"
      }
    },
    {
      "cell_type": "code",
      "source": [
        "# Step 7: Predict 'audience_rating' for the existing data (same dataset)\n",
        "# Preprocess the same dataset for prediction (using the same preprocessing steps as for training data)\n",
        "df_preprocessed = df.copy()"
      ],
      "metadata": {
        "id": "HX8VgNHYtcvp"
      },
      "execution_count": 18,
      "outputs": []
    },
    {
      "cell_type": "code",
      "source": [
        "# Step 7.1: Apply the same LabelEncoding for categorical features in the dataset\n",
        "for col in categorical_cols:\n",
        "    if col in df_preprocessed.columns:\n",
        "        # Instead of directly transforming, handle unseen labels\n",
        "        try:\n",
        "            df_preprocessed[col] = label_encoders[col].transform(df_preprocessed[col])\n",
        "        except ValueError as e:\n",
        "            # Handle unseen labels (e.g., assign a default value or ignore)\n",
        "            # Here, we'll replace unseen labels with a placeholder value like -1\n",
        "            unseen_mask = ~df_preprocessed[col].isin(label_encoders[col].classes_)\n",
        "            df_preprocessed.loc[unseen_mask, col] = -1\n",
        "            print(f\"Warning: Unseen labels in '{col}' replaced with -1.\")\n"
      ],
      "metadata": {
        "colab": {
          "base_uri": "https://localhost:8080/"
        },
        "id": "Qi_HaVvFZPly",
        "outputId": "51175740-8092-4304-8f38-d6cc9db8af38"
      },
      "execution_count": 19,
      "outputs": [
        {
          "output_type": "stream",
          "name": "stdout",
          "text": [
            "Warning: Unseen labels in 'movie_title' replaced with -1.\n",
            "Warning: Unseen labels in 'movie_info' replaced with -1.\n",
            "Warning: Unseen labels in 'critics_consensus' replaced with -1.\n",
            "Warning: Unseen labels in 'rating' replaced with -1.\n",
            "Warning: Unseen labels in 'genre' replaced with -1.\n",
            "Warning: Unseen labels in 'directors' replaced with -1.\n",
            "Warning: Unseen labels in 'writers' replaced with -1.\n",
            "Warning: Unseen labels in 'cast' replaced with -1.\n",
            "Warning: Unseen labels in 'studio_name' replaced with -1.\n",
            "Warning: Unseen labels in 'tomatometer_status' replaced with -1.\n"
          ]
        }
      ]
    },
    {
      "cell_type": "code",
      "source": [
        "# Step 7.2: Drop any remaining rows with missing values (if any) from the dataset\n",
        "df_preprocessed = df_preprocessed.dropna()\n"
      ],
      "metadata": {
        "id": "W1A6l-RfZcYI"
      },
      "execution_count": 20,
      "outputs": []
    },
    {
      "cell_type": "code",
      "source": [
        "# Step 7.3: Ensure all features in df_preprocessed are numeric\n",
        "# Check if any column is still object or string type after encoding, which should no longer be the case\n",
        "print(df_preprocessed.dtypes)"
      ],
      "metadata": {
        "id": "UceA6hB2tmtW",
        "colab": {
          "base_uri": "https://localhost:8080/"
        },
        "outputId": "aaa325db-d654-4352-e6f1-a7c4c878bcca"
      },
      "execution_count": 21,
      "outputs": [
        {
          "output_type": "stream",
          "name": "stdout",
          "text": [
            "movie_title             int64\n",
            "movie_info              int64\n",
            "critics_consensus       int64\n",
            "rating                  int64\n",
            "genre                   int64\n",
            "directors               int64\n",
            "writers                 int64\n",
            "cast                    int64\n",
            "in_theaters_date        int64\n",
            "on_streaming_date       int64\n",
            "runtime_in_minutes    float64\n",
            "studio_name             int64\n",
            "tomatometer_status      int64\n",
            "tomatometer_rating      int64\n",
            "tomatometer_count       int64\n",
            "audience_rating       float64\n",
            "dtype: object\n"
          ]
        }
      ]
    },
    {
      "cell_type": "code",
      "source": [
        "# Step 7.4: Use the trained pipeline to predict 'audience_rating' for the preprocessed dataset\n",
        "# Remove the target variable from the prediction data\n",
        "X_preprocessed = df_preprocessed.drop(columns=['audience_rating'])\n",
        "predictions = pipeline.predict(X_preprocessed)\n",
        "\n",
        "\n"
      ],
      "metadata": {
        "id": "HHNtcY20tqcj"
      },
      "execution_count": 22,
      "outputs": []
    },
    {
      "cell_type": "code",
      "source": [
        "# Step 7.5: Add predictions to the original dataframe as a new column\n",
        "df['predicted_audience_rating'] = predictions\n",
        "\n"
      ],
      "metadata": {
        "id": "m0ys6Xsob05S"
      },
      "execution_count": 23,
      "outputs": []
    },
    {
      "cell_type": "code",
      "source": [
        "\n",
        "# Step 7.6: Display predictions for the 'audience_rating' column in the dataset\n",
        "print(\"\\nPredicted 'audience_rating' for the existing dataset:\")\n",
        "print(df[['audience_rating', 'predicted_audience_rating']].head())"
      ],
      "metadata": {
        "colab": {
          "base_uri": "https://localhost:8080/"
        },
        "id": "iypln9w_b3Es",
        "outputId": "1d0ab962-5d21-4934-ddd4-da7a47f46846"
      },
      "execution_count": 24,
      "outputs": [
        {
          "output_type": "stream",
          "name": "stdout",
          "text": [
            "\n",
            "Predicted 'audience_rating' for the existing dataset:\n",
            "   audience_rating  predicted_audience_rating\n",
            "0             53.0                  51.148033\n",
            "1             64.0                  69.011763\n",
            "3             97.0                  85.406824\n",
            "4             74.0                  74.788594\n",
            "5             37.0                  37.355096\n"
          ]
        }
      ]
    },
    {
      "cell_type": "markdown",
      "source": [
        "Loading the Saved Pipeline for Predictions"
      ],
      "metadata": {
        "id": "ND2_-1I_i_fL"
      }
    },
    {
      "cell_type": "code",
      "source": [
        "\n",
        "# Step 8: Save the Pipeline for Future Use (Optional, if you want to save the trained pipeline)\n",
        "import io\n",
        "import joblib\n",
        "pipeline_filename = 'audience_rating_pipeline.pkl'\n",
        "joblib.dump(pipeline, pipeline_filename)\n",
        "print(f\"Pipeline saved as {pipeline_filename}\")\n"
      ],
      "metadata": {
        "id": "dNu8wz-ktuVC",
        "colab": {
          "base_uri": "https://localhost:8080/"
        },
        "outputId": "0e6699fe-8663-4cf0-d27d-16c4b26174fc"
      },
      "execution_count": 25,
      "outputs": [
        {
          "output_type": "stream",
          "name": "stdout",
          "text": [
            "Pipeline saved as audience_rating_pipeline.pkl\n"
          ]
        }
      ]
    },
    {
      "cell_type": "markdown",
      "source": [
        "Accuracy"
      ],
      "metadata": {
        "id": "k5awqWzqkVin"
      }
    },
    {
      "cell_type": "code",
      "source": [
        "# Step 9: Validate Model Accuracy on Test Set (using the original data)\n",
        "print(\"\\nFinal Model Accuracy Validation (on the test set):\")\n",
        "print(\"R2 Score on Test Set:\", r2_score(y_test, final_predictions))\n",
        "print(\"MAE on Test Set:\", mean_absolute_error(y_test, final_predictions))\n",
        "print(\"MSE on Test Set:\", mean_squared_error(y_test, final_predictions))"
      ],
      "metadata": {
        "id": "11ZNzoPBt1us",
        "colab": {
          "base_uri": "https://localhost:8080/"
        },
        "outputId": "d6f671f3-9132-4482-bcaa-8655d01e9322"
      },
      "execution_count": 26,
      "outputs": [
        {
          "output_type": "stream",
          "name": "stdout",
          "text": [
            "\n",
            "Final Model Accuracy Validation (on the test set):\n",
            "R2 Score on Test Set: 0.6088263694628949\n",
            "MAE on Test Set: 9.649790829518777\n",
            "MSE on Test Set: 148.8050965931201\n"
          ]
        }
      ]
    }
  ]
}